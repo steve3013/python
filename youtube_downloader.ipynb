{
 "cells": [
  {
   "cell_type": "code",
   "execution_count": 4,
   "id": "ea4b0883",
   "metadata": {},
   "outputs": [],
   "source": [
    "\n",
    "from tkinter import *\n",
    "from threading import Thread\n",
    "from tkinter import messagebox\n",
    "from pytube import YouTube\n",
    "\n"
   ]
  },
  {
   "cell_type": "code",
   "execution_count": 3,
   "id": "baaa3608",
   "metadata": {},
   "outputs": [
    {
     "name": "stdout",
     "output_type": "stream",
     "text": [
      "Collecting pytube\n",
      "  Downloading pytube-12.1.2-py3-none-any.whl (57 kB)\n",
      "\u001b[2K     \u001b[38;2;114;156;31m━━━━━━━━━━━━━━━━━━━━━━━━━━━━━━━━━━━━━━━━\u001b[0m \u001b[32m57.0/57.0 kB\u001b[0m \u001b[31m1.2 MB/s\u001b[0m eta \u001b[36m0:00:00\u001b[0m[31m1.2 MB/s\u001b[0m eta \u001b[36m0:00:01\u001b[0m\n",
      "\u001b[?25hInstalling collected packages: pytube\n",
      "Successfully installed pytube-12.1.2\n"
     ]
    }
   ],
   "source": [
    "!pip3 install pytube"
   ]
  },
  {
   "cell_type": "code",
   "execution_count": 5,
   "id": "0cc1946b",
   "metadata": {},
   "outputs": [],
   "source": [
    "def threading():\n",
    "    # Call work function\n",
    "    t1 = Thread(target=download)\n",
    "    t1.start()\n",
    "\n",
    "\n",
    "def download():\n",
    "    url = YouTube(str(url_box.get()))\n",
    "    video = url.streams.first()\n",
    "    video.download()\n",
    "    messagebox.showinfo('', 'Download completed!')\n",
    "\n",
    "root = Tk()\n",
    "root.title('YouTube Downloader')\n",
    "root.geometry('780x500+200+200')\n",
    "# root.iconbitmap('youtube.ico')\n",
    "root.configure(bg='olivedrab1')\n",
    "root.resizable(False, False)\n",
    "\n",
    "# Label widgets\n",
    "introlable = Label(\n",
    "    root,\n",
    "    text='YouTube Video Downloader',\n",
    "    width=30,\n",
    "    relief='ridge',\n",
    "    bd=4,\n",
    "    font=('chiller', 26, 'italic bold'),\n",
    "    fg='red')\n",
    "introlable.place(x=35, y=20)\n",
    "\n",
    "Label(\n",
    "    root,\n",
    "    text='Enter YouTube Link',\n",
    "    font=('sans-serif', 16),\n",
    "    bg='olivedrab1'\n",
    ").place(x=40, y=150)\n",
    "\n",
    "# DownloadingSizeLabel = Label(\n",
    "#     root,\n",
    "#     text='Total Size: ',\n",
    "#     font=('arial',15,'italic bold'),\n",
    "#     bg='olivedrab1'\n",
    "#     )\n",
    "# DownloadingSizeLabel.place(x=500,y=240)\n",
    "\n",
    "# DownloadingLabel = Label(\n",
    "#     root,\n",
    "#     text='Recieved Size: ',\n",
    "#     font=('arial',15,'italic bold'),\n",
    "#     bg='olivedrab1'\n",
    "#     )\n",
    "# DownloadingLabel.place(x=500,y=290)\n",
    "\n",
    "# DownloadingTime = Label(\n",
    "#     root,\n",
    "#     text='Time Left : ',\n",
    "#     font=('arial',15,'italic bold'),\n",
    "#     bg='olivedrab1'\n",
    "#     )\n",
    "# DownloadingTime.place(x=500,y=340)\n",
    "\n",
    "# DownloadingSizeLabelResult = Label(\n",
    "#     root,\n",
    "#     text=' ',\n",
    "#     font=('arial',15,'italic bold'),\n",
    "#     bg='olivedrab1'\n",
    "#     )\n",
    "# DownloadingSizeLabelResult.place(x=650,y=240)\n",
    "\n",
    "# DownloadingLabelResult = Label(\n",
    "#     root,\n",
    "#     text=' ',\n",
    "#     font=('arial',15,'italic bold'),\n",
    "#     bg='olivedrab1'\n",
    "#     )\n",
    "# DownloadingLabelResult.place(x=650,y=290)\n"
   ]
  },
  {
   "cell_type": "code",
   "execution_count": null,
   "id": "5634d734",
   "metadata": {},
   "outputs": [],
   "source": [
    "\n",
    "# Entry widgets\n",
    "url_box = Entry(\n",
    "    root,\n",
    "    font=('arial', 30),\n",
    "    width=30\n",
    ")\n",
    "url_box.place(x=40, y=180)\n",
    "\n",
    "# Button Widgets\n",
    "btn = Button(\n",
    "    root,\n",
    "    text='DOWNLOAD',\n",
    "    font=('sans-serif', 25),\n",
    "    command=threading\n",
    ")\n",
    "btn.place(x=270, y=240)\n",
    "\n",
    "root.mainloop()\n",
    "Footer\n"
   ]
  },
  {
   "cell_type": "code",
   "execution_count": null,
   "id": "eb28f618",
   "metadata": {},
   "outputs": [],
   "source": []
  }
 ],
 "metadata": {
  "kernelspec": {
   "display_name": "Python 3 (ipykernel)",
   "language": "python",
   "name": "python3"
  },
  "language_info": {
   "codemirror_mode": {
    "name": "ipython",
    "version": 3
   },
   "file_extension": ".py",
   "mimetype": "text/x-python",
   "name": "python",
   "nbconvert_exporter": "python",
   "pygments_lexer": "ipython3",
   "version": "3.10.9"
  }
 },
 "nbformat": 4,
 "nbformat_minor": 5
}
