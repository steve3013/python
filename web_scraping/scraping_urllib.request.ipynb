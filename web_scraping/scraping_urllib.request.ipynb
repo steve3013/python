{
 "cells": [
  {
   "cell_type": "code",
   "execution_count": 12,
   "id": "7ed965d0",
   "metadata": {},
   "outputs": [
    {
     "name": "stdout",
     "output_type": "stream",
     "text": [
      "wptools version : 0.4.17\n"
     ]
    }
   ],
   "source": [
    "import json\n",
    "import wptools\n",
    "import wikipedia\n",
    "import pandas as pd\n",
    "\n",
    "print('wptools version : {}'.format(wptools.__version__))\n"
   ]
  },
  {
   "cell_type": "code",
   "execution_count": 13,
   "id": "329d82c2",
   "metadata": {},
   "outputs": [],
   "source": [
    "import urllib.request"
   ]
  },
  {
   "cell_type": "code",
   "execution_count": 39,
   "id": "42abc3ac",
   "metadata": {},
   "outputs": [],
   "source": [
    "url = 'https://raw.githubusercontent.com/MonashDataFluency/python-web-scraping/master/data/fortune_500_companies.csv'\n",
    "urllib.request.urlretrieve(url, 'fortune_500_companies.csv')\n",
    "\n",
    "('fortune_500_companies.csv', 'http.client.HTTPMessage at 0x25ede05b320')\n",
    "\n",
    "fname = 'fortune_500_companies.csv' # scrapped data from previous section\n",
    "df = pd.read_csv(fname)             # reading the csv file as a pandas df\n",
    "df.head()                           # displaying the first 5 rows\n",
    "fname = df.tail()"
   ]
  },
  {
   "cell_type": "code",
   "execution_count": 34,
   "id": "3aaf09e1",
   "metadata": {},
   "outputs": [],
   "source": [
    "no_of_companies = 50                        # no of companies we are interested\n",
    "df_sub = df.iloc[:no_of_companies, :].copy() # only selecting the top 20 companies\n",
    "companies = df_sub['company_name'].tolist()  # converting the column to a list"
   ]
  },
  {
   "cell_type": "code",
   "execution_count": 35,
   "id": "69c0a8ba",
   "metadata": {},
   "outputs": [
    {
     "name": "stdout",
     "output_type": "stream",
     "text": [
      "1. Walmart\n",
      "2. Exxon Mobil\n",
      "3. Berkshire Hathaway\n",
      "4. Apple\n",
      "5. UnitedHealth Group\n",
      "6. McKesson\n",
      "7. CVS Health\n",
      "8. Amazon.com\n",
      "9. AT&T\n",
      "10. General Motors\n",
      "11. Ford Motor\n",
      "12. AmerisourceBergen\n",
      "13. Chevron\n",
      "14. Cardinal Health\n",
      "15. Costco\n",
      "16. Verizon\n",
      "17. Kroger\n",
      "18. General Electric\n",
      "19. Walgreens Boots Alliance\n",
      "20. JPMorgan Chase\n",
      "21. Fannie Mae\n",
      "22. Alphabet\n",
      "23. Home Depot\n",
      "24. Bank of America Corp.\n",
      "25. Express Scripts Holding\n",
      "26. Wells Fargo\n",
      "27. Boeing\n",
      "28. Phillips\n",
      "29. Anthem\n",
      "30. Microsoft\n",
      "31. Valero Energy\n",
      "32. Citigroup\n",
      "33. Comcast\n",
      "34. IBM\n",
      "35. Dell Technologies\n",
      "36. State Farm Insurance Cos.\n",
      "37. Johnson & Johnson\n",
      "38. Freddie Mac\n",
      "39. Target\n",
      "40. Lowe’s\n",
      "41. Marathon Petroleum\n",
      "42. Procter & Gamble\n",
      "43. MetLife\n",
      "44. UPS\n",
      "45. PepsiCo\n",
      "46. Intel\n",
      "47. DowDuPont\n",
      "48. Archer Daniels Midland\n",
      "49. Aetna\n",
      "50. FedEx\n"
     ]
    }
   ],
   "source": [
    "for i, j in enumerate(companies):   # looping through the list of 20 company\n",
    "    print('{}. {}'.format(i+1, j))  # printing out the same"
   ]
  },
  {
   "cell_type": "code",
   "execution_count": 40,
   "id": "a69c1342",
   "metadata": {},
   "outputs": [
    {
     "data": {
      "text/html": [
       "<div>\n",
       "<style scoped>\n",
       "    .dataframe tbody tr th:only-of-type {\n",
       "        vertical-align: middle;\n",
       "    }\n",
       "\n",
       "    .dataframe tbody tr th {\n",
       "        vertical-align: top;\n",
       "    }\n",
       "\n",
       "    .dataframe thead th {\n",
       "        text-align: right;\n",
       "    }\n",
       "</style>\n",
       "<table border=\"1\" class=\"dataframe\">\n",
       "  <thead>\n",
       "    <tr style=\"text-align: right;\">\n",
       "      <th></th>\n",
       "      <th>rank</th>\n",
       "      <th>company_name</th>\n",
       "      <th>company_website</th>\n",
       "    </tr>\n",
       "  </thead>\n",
       "  <tbody>\n",
       "    <tr>\n",
       "      <th>495</th>\n",
       "      <td>496</td>\n",
       "      <td>Polaris Industries</td>\n",
       "      <td>http://www.polaris.com</td>\n",
       "    </tr>\n",
       "    <tr>\n",
       "      <th>496</th>\n",
       "      <td>497</td>\n",
       "      <td>Pioneer Natural Resources</td>\n",
       "      <td>http://www.pxd.com</td>\n",
       "    </tr>\n",
       "    <tr>\n",
       "      <th>497</th>\n",
       "      <td>498</td>\n",
       "      <td>ABM Industries</td>\n",
       "      <td>http://www.abm.com</td>\n",
       "    </tr>\n",
       "    <tr>\n",
       "      <th>498</th>\n",
       "      <td>499</td>\n",
       "      <td>Vistra Energy</td>\n",
       "      <td>http://www.vistraenergy.com</td>\n",
       "    </tr>\n",
       "    <tr>\n",
       "      <th>499</th>\n",
       "      <td>500</td>\n",
       "      <td>Cintas</td>\n",
       "      <td>http://www.cintas.com</td>\n",
       "    </tr>\n",
       "  </tbody>\n",
       "</table>\n",
       "</div>"
      ],
      "text/plain": [
       "     rank               company_name              company_website\n",
       "495   496         Polaris Industries       http://www.polaris.com\n",
       "496   497  Pioneer Natural Resources           http://www.pxd.com\n",
       "497   498             ABM Industries           http://www.abm.com\n",
       "498   499              Vistra Energy  http://www.vistraenergy.com\n",
       "499   500                     Cintas        http://www.cintas.com"
      ]
     },
     "execution_count": 40,
     "metadata": {},
     "output_type": "execute_result"
    }
   ],
   "source": [
    "fname"
   ]
  },
  {
   "cell_type": "code",
   "execution_count": null,
   "id": "7336896a",
   "metadata": {},
   "outputs": [],
   "source": []
  },
  {
   "cell_type": "code",
   "execution_count": null,
   "id": "e702bdcc",
   "metadata": {},
   "outputs": [],
   "source": []
  }
 ],
 "metadata": {
  "kernelspec": {
   "display_name": "Python 3 (ipykernel)",
   "language": "python",
   "name": "python3"
  },
  "language_info": {
   "codemirror_mode": {
    "name": "ipython",
    "version": 3
   },
   "file_extension": ".py",
   "mimetype": "text/x-python",
   "name": "python",
   "nbconvert_exporter": "python",
   "pygments_lexer": "ipython3",
   "version": "3.10.9"
  }
 },
 "nbformat": 4,
 "nbformat_minor": 5
}
