{
 "cells": [
  {
   "cell_type": "code",
   "execution_count": null,
   "id": "61d1625c",
   "metadata": {},
   "outputs": [],
   "source": [
    "#importing libraries, tqdm is some crap that adds an extensible progress bar to the project\n",
    "# install it like that: conda install -c conda-forge tqdm \n",
    "# snscrape is a social media scraper. install it like: pip3 install snscrape"
   ]
  },
  {
   "cell_type": "code",
   "execution_count": 6,
   "id": "8d1e71f1",
   "metadata": {},
   "outputs": [],
   "source": [
    "import pandas as pd\n",
    "from tqdm.notebook import tqdm\n",
    "import snscrape.modules.twitter as sntwitter"
   ]
  },
  {
   "cell_type": "code",
   "execution_count": 7,
   "id": "ed40bc9a",
   "metadata": {},
   "outputs": [],
   "source": [
    "#scraper = sntwitter.TwitterSearchScraper(\"#donaldtrump\")"
   ]
  },
  {
   "cell_type": "code",
   "execution_count": 13,
   "id": "704b0fdb",
   "metadata": {},
   "outputs": [],
   "source": [
    "for tweet in scraper.get_items():\n",
    "    break"
   ]
  },
  {
   "cell_type": "code",
   "execution_count": null,
   "id": "b540b39e",
   "metadata": {},
   "outputs": [],
   "source": [
    "scraper = sntwitter.TwitterSearchScraper(\"#president\")\n",
    "\n",
    "tweets = []\n",
    "\n",
    "for i, tweet in enumerate (scraper.get_items()):\n",
    "    data = [\n",
    "        tweet.date, \n",
    "        tweet.id,\n",
    "        tweet.user.username, \n",
    "        tweet.likeCount, \n",
    "        tweet.retweetCount,\n",
    "    ]\n",
    "    tweets.append(data)\n",
    "    if i > 50: \n",
    "        break"
   ]
  },
  {
   "cell_type": "code",
   "execution_count": null,
   "id": "42433aa8",
   "metadata": {},
   "outputs": [],
   "source": [
    "len(tweets)"
   ]
  },
  {
   "cell_type": "code",
   "execution_count": null,
   "id": "a0ea5b1c",
   "metadata": {
    "scrolled": true
   },
   "outputs": [],
   "source": [
    "tweet_df = pd.DataFrame(\n",
    "    tweets, columns = [\"tweet.date\", \"tweet.id\", \"tweet.user.username\", \"tweet.likeCount\", \"tweet.retweetCount\"]\n",
    ")"
   ]
  },
  {
   "cell_type": "code",
   "execution_count": null,
   "id": "df55f7d0",
   "metadata": {},
   "outputs": [],
   "source": [
    "tweet_df"
   ]
  },
  {
   "cell_type": "code",
   "execution_count": 10,
   "id": "3c30f5f2",
   "metadata": {},
   "outputs": [],
   "source": [
    "tweet_df.to_csv(\"donald_trump.csv\", index=True)"
   ]
  },
  {
   "cell_type": "code",
   "execution_count": 9,
   "id": "0ddff5a1",
   "metadata": {},
   "outputs": [],
   "source": [
    "# add a progress bar"
   ]
  },
  {
   "cell_type": "code",
   "execution_count": 10,
   "id": "e2c6bbd8",
   "metadata": {},
   "outputs": [
    {
     "data": {
      "application/vnd.jupyter.widget-view+json": {
       "model_id": "26af7263002c430fbbef61d41ac88566",
       "version_major": 2,
       "version_minor": 0
      },
      "text/plain": [
       "  0%|          | 0/1000 [00:00<?, ?it/s]"
      ]
     },
     "metadata": {},
     "output_type": "display_data"
    },
    {
     "data": {
      "text/html": [
       "<div>\n",
       "<style scoped>\n",
       "    .dataframe tbody tr th:only-of-type {\n",
       "        vertical-align: middle;\n",
       "    }\n",
       "\n",
       "    .dataframe tbody tr th {\n",
       "        vertical-align: top;\n",
       "    }\n",
       "\n",
       "    .dataframe thead th {\n",
       "        text-align: right;\n",
       "    }\n",
       "</style>\n",
       "<table border=\"1\" class=\"dataframe\">\n",
       "  <thead>\n",
       "    <tr style=\"text-align: right;\">\n",
       "      <th></th>\n",
       "      <th>tweet.date</th>\n",
       "      <th>tweet.id</th>\n",
       "      <th>tweet.user.username</th>\n",
       "      <th>tweet.likeCount</th>\n",
       "      <th>tweet.retweetCount</th>\n",
       "    </tr>\n",
       "  </thead>\n",
       "  <tbody>\n",
       "    <tr>\n",
       "      <th>0</th>\n",
       "      <td>2023-02-13 13:53:05+00:00</td>\n",
       "      <td>1625130945257869316</td>\n",
       "      <td>KadenaUK</td>\n",
       "      <td>0</td>\n",
       "      <td>0</td>\n",
       "    </tr>\n",
       "    <tr>\n",
       "      <th>1</th>\n",
       "      <td>2023-02-13 13:49:00+00:00</td>\n",
       "      <td>1625129916349165569</td>\n",
       "      <td>KadenaEcosystem</td>\n",
       "      <td>3</td>\n",
       "      <td>0</td>\n",
       "    </tr>\n",
       "    <tr>\n",
       "      <th>2</th>\n",
       "      <td>2023-02-13 13:44:00+00:00</td>\n",
       "      <td>1625128658321960968</td>\n",
       "      <td>AIYeyENGDdJkjTr</td>\n",
       "      <td>0</td>\n",
       "      <td>0</td>\n",
       "    </tr>\n",
       "    <tr>\n",
       "      <th>3</th>\n",
       "      <td>2023-02-13 13:33:00+00:00</td>\n",
       "      <td>1625125890123264001</td>\n",
       "      <td>KadenaEcosystem</td>\n",
       "      <td>1</td>\n",
       "      <td>1</td>\n",
       "    </tr>\n",
       "    <tr>\n",
       "      <th>4</th>\n",
       "      <td>2023-02-13 13:23:14+00:00</td>\n",
       "      <td>1625123432160497666</td>\n",
       "      <td>Schadowsky666</td>\n",
       "      <td>2</td>\n",
       "      <td>1</td>\n",
       "    </tr>\n",
       "    <tr>\n",
       "      <th>...</th>\n",
       "      <td>...</td>\n",
       "      <td>...</td>\n",
       "      <td>...</td>\n",
       "      <td>...</td>\n",
       "      <td>...</td>\n",
       "    </tr>\n",
       "    <tr>\n",
       "      <th>997</th>\n",
       "      <td>2023-02-02 03:12:48+00:00</td>\n",
       "      <td>1620983548131016706</td>\n",
       "      <td>AIYeyENGDdJkjTr</td>\n",
       "      <td>0</td>\n",
       "      <td>0</td>\n",
       "    </tr>\n",
       "    <tr>\n",
       "      <th>998</th>\n",
       "      <td>2023-02-02 02:54:23+00:00</td>\n",
       "      <td>1620978910916902912</td>\n",
       "      <td>thearkintel</td>\n",
       "      <td>11</td>\n",
       "      <td>2</td>\n",
       "    </tr>\n",
       "    <tr>\n",
       "      <th>999</th>\n",
       "      <td>2023-02-02 02:35:35+00:00</td>\n",
       "      <td>1620974182300323842</td>\n",
       "      <td>BarbaricPuma</td>\n",
       "      <td>3</td>\n",
       "      <td>0</td>\n",
       "    </tr>\n",
       "    <tr>\n",
       "      <th>1000</th>\n",
       "      <td>2023-02-02 02:33:34+00:00</td>\n",
       "      <td>1620973674026405888</td>\n",
       "      <td>ryansmi65393560</td>\n",
       "      <td>2</td>\n",
       "      <td>0</td>\n",
       "    </tr>\n",
       "    <tr>\n",
       "      <th>1001</th>\n",
       "      <td>2023-02-02 02:32:18+00:00</td>\n",
       "      <td>1620973356001492996</td>\n",
       "      <td>gini__us</td>\n",
       "      <td>85</td>\n",
       "      <td>3</td>\n",
       "    </tr>\n",
       "  </tbody>\n",
       "</table>\n",
       "<p>1002 rows × 5 columns</p>\n",
       "</div>"
      ],
      "text/plain": [
       "                    tweet.date             tweet.id tweet.user.username  \\\n",
       "0    2023-02-13 13:53:05+00:00  1625130945257869316            KadenaUK   \n",
       "1    2023-02-13 13:49:00+00:00  1625129916349165569     KadenaEcosystem   \n",
       "2    2023-02-13 13:44:00+00:00  1625128658321960968     AIYeyENGDdJkjTr   \n",
       "3    2023-02-13 13:33:00+00:00  1625125890123264001     KadenaEcosystem   \n",
       "4    2023-02-13 13:23:14+00:00  1625123432160497666       Schadowsky666   \n",
       "...                        ...                  ...                 ...   \n",
       "997  2023-02-02 03:12:48+00:00  1620983548131016706     AIYeyENGDdJkjTr   \n",
       "998  2023-02-02 02:54:23+00:00  1620978910916902912         thearkintel   \n",
       "999  2023-02-02 02:35:35+00:00  1620974182300323842        BarbaricPuma   \n",
       "1000 2023-02-02 02:33:34+00:00  1620973674026405888     ryansmi65393560   \n",
       "1001 2023-02-02 02:32:18+00:00  1620973356001492996            gini__us   \n",
       "\n",
       "      tweet.likeCount  tweet.retweetCount  \n",
       "0                   0                   0  \n",
       "1                   3                   0  \n",
       "2                   0                   0  \n",
       "3                   1                   1  \n",
       "4                   2                   1  \n",
       "...               ...                 ...  \n",
       "997                 0                   0  \n",
       "998                11                   2  \n",
       "999                 3                   0  \n",
       "1000                2                   0  \n",
       "1001               85                   3  \n",
       "\n",
       "[1002 rows x 5 columns]"
      ]
     },
     "execution_count": 10,
     "metadata": {},
     "output_type": "execute_result"
    }
   ],
   "source": [
    "import pandas as pd\n",
    "from tqdm.notebook import tqdm\n",
    "import snscrape.modules.twitter as sntwitter\n",
    "\n",
    "for tweet in scraper.get_items():\n",
    "    break\n",
    "\n",
    "scraper = sntwitter.TwitterSearchScraper(\"#donaldtrump\")\n",
    "\n",
    "tweets = []\n",
    "n_tweets = 1_000\n",
    "for i, tweet in tqdm (enumerate(scraper.get_items()), total=n_tweets):\n",
    "    data = [\n",
    "        tweet.date, \n",
    "        tweet.id,\n",
    "        tweet.user.username, \n",
    "        tweet.likeCount, \n",
    "        tweet.retweetCount,\n",
    "    ]\n",
    "    tweets.append(data)\n",
    "    if i > n_tweets: \n",
    "        break\n",
    "\n",
    "tweet_df = pd.DataFrame(\n",
    "    tweets, columns = [\"tweet.date\", \"tweet.id\", \"tweet.user.username\", \"tweet.likeCount\", \"tweet.retweetCount\"]\n",
    ")\n",
    "\n",
    "tweet_df"
   ]
  },
  {
   "cell_type": "code",
   "execution_count": 11,
   "id": "007e55a9",
   "metadata": {},
   "outputs": [],
   "source": [
    "tweet_df.to_csv(\"xxxtweetsxxx.csv\", index=True)"
   ]
  },
  {
   "cell_type": "code",
   "execution_count": null,
   "id": "0789a1e4",
   "metadata": {},
   "outputs": [],
   "source": []
  }
 ],
 "metadata": {
  "kernelspec": {
   "display_name": "Python 3 (ipykernel)",
   "language": "python",
   "name": "python3"
  },
  "language_info": {
   "codemirror_mode": {
    "name": "ipython",
    "version": 3
   },
   "file_extension": ".py",
   "mimetype": "text/x-python",
   "name": "python",
   "nbconvert_exporter": "python",
   "pygments_lexer": "ipython3",
   "version": "3.10.9"
  }
 },
 "nbformat": 4,
 "nbformat_minor": 5
}
